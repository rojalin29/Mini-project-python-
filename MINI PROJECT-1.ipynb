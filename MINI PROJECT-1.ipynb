{
 "cells": [
  {
   "cell_type": "code",
   "execution_count": null,
   "id": "2c3c7961",
   "metadata": {},
   "outputs": [
    {
     "name": "stdout",
     "output_type": "stream",
     "text": [
      "SELECT AN OPTION:\n",
      "1.Add employee\n",
      "2.Add hr\n",
      "3.Search employee\n",
      "4.Search hr\n",
      "5.Exit\n",
      "2\n",
      "Enter employee id: H04\n",
      "Enter the department of HR: Recruitment\n",
      "Enter the role of HR: Manager\n",
      "HR details are added.\n",
      "SELECT AN OPTION:\n",
      "1.Add employee\n",
      "2.Add hr\n",
      "3.Search employee\n",
      "4.Search hr\n",
      "5.Exit\n",
      "3\n",
      "Enter the employee id: E02\n",
      "E02,Riddhi,05.05.2017,Executive,0\n",
      "\n"
     ]
    }
   ],
   "source": [
    "def add_employee(emp_id, emp_name, emp_DOJ, emp_designation, emp_salary):\n",
    "    x=emp_id+','+emp_name+','+emp_DOJ+','+emp_designation+','+emp_salary+\"\\n\"\n",
    "    file=open('Employee.txt','a')\n",
    "    file.writelines(x)\n",
    "    file.close()\n",
    "    return 'Employee details are added'\n",
    "def add_hr(emp_id, hr_dept, hr_role):\n",
    "    x=emp_id+','+hr_dept+','+hr_role+\"\\n\"\n",
    "    file=open('HR.txt','a')\n",
    "    file.writelines(x)\n",
    "    file.close()\n",
    "    return 'HR details are added.'\n",
    "def search_employee(emp_id):\n",
    "    file=open('Employee.txt','r')\n",
    "    e=file.readlines()\n",
    "    for i in e:\n",
    "        j=i.split(',')\n",
    "        if(emp_id==j[0]):\n",
    "            return i\n",
    "    else:\n",
    "        return 'Employee not found'\n",
    "def search_hr(emp_id):\n",
    "    file=open('HR.txt','r')\n",
    "    h=file.readlines()\n",
    "    for i in h:\n",
    "        j=i.split(',')\n",
    "        if(emp_id==j[0]):\n",
    "            return j\n",
    "    else:\n",
    "        return 'HR not found.'\n",
    "\n",
    "while(1):\n",
    "    opt=int(input('SELECT AN OPTION:\\n1.Add employee\\n2.Add hr\\n3.Search employee\\n4.Search hr\\n5.Exit\\n'))\n",
    "    if(opt==1):\n",
    "        emp_id = input(\"Enter the employee id: \")\n",
    "        emp_name = input(\"Enter the employee name: \")\n",
    "        emp_DOJ = input(\"Enter the employee DOJ: \")\n",
    "        emp_designation = input(\"Enter the employee designation: \")\n",
    "        emp_salary = '0'\n",
    "        print(add_employee(emp_id, emp_name, emp_DOJ, emp_designation, emp_salary))\n",
    "    elif(opt==2):\n",
    "        emp_id = input(\"Enter employee id: \")\n",
    "        hr_dept = input(\"Enter the department of HR: \")\n",
    "        hr_role = input(\"Enter the role of HR: \")\n",
    "        print(add_hr(emp_id, hr_dept, hr_role))\n",
    "    elif(opt==3):\n",
    "        emp_id = input(\"Enter the employee id: \")\n",
    "        print(search_employee(emp_id))\n",
    "    elif(opt==4):\n",
    "        emp_id = input(\"Enter the hr id: \")\n",
    "        print(search_hr(emp_id))\n",
    "    else:\n",
    "        print(\"Invalid Option.Try Again\")"
   ]
  },
  {
   "cell_type": "code",
   "execution_count": null,
   "id": "912fb140",
   "metadata": {},
   "outputs": [],
   "source": []
  }
 ],
 "metadata": {
  "kernelspec": {
   "display_name": "Python 3",
   "language": "python",
   "name": "python3"
  },
  "language_info": {
   "codemirror_mode": {
    "name": "ipython",
    "version": 3
   },
   "file_extension": ".py",
   "mimetype": "text/x-python",
   "name": "python",
   "nbconvert_exporter": "python",
   "pygments_lexer": "ipython3",
   "version": "3.8.8"
  }
 },
 "nbformat": 4,
 "nbformat_minor": 5
}
